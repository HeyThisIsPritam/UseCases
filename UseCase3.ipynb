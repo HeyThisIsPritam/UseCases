{
 "cells": [
  {
   "cell_type": "code",
   "execution_count": 1,
   "id": "aa5e6991-09f7-41db-a6f8-84fcdbeec9d4",
   "metadata": {},
   "outputs": [],
   "source": [
    "import pandas as pd\n",
    "import numpy as np\n",
    "import seaborn as sns"
   ]
  },
  {
   "cell_type": "code",
   "execution_count": 2,
   "id": "634a2d0d-14ac-4f58-b32f-ddcdc36e7b78",
   "metadata": {},
   "outputs": [],
   "source": [
    "df = pd.read_csv(r'C:\\Users\\pritb\\Downloads\\CS-3.csv')"
   ]
  },
  {
   "cell_type": "code",
   "execution_count": 3,
   "id": "c77d5d80-aade-4cf5-bc95-ca2c644ef0f1",
   "metadata": {},
   "outputs": [
    {
     "name": "stdout",
     "output_type": "stream",
     "text": [
      "<class 'pandas.core.frame.DataFrame'>\n",
      "RangeIndex: 275643 entries, 0 to 275642\n",
      "Data columns (total 10 columns):\n",
      " #   Column      Non-Null Count   Dtype  \n",
      "---  ------      --------------   -----  \n",
      " 0   Unnamed: 0  275643 non-null  int64  \n",
      " 1   Name        275643 non-null  object \n",
      " 2   Sex         275643 non-null  object \n",
      " 3   Age         266169 non-null  float64\n",
      " 4   Team        275643 non-null  object \n",
      " 5   Games       275643 non-null  object \n",
      " 6   Year        275643 non-null  int64  \n",
      " 7   Season      275643 non-null  object \n",
      " 8   Sport       275643 non-null  object \n",
      " 9   Medal       275643 non-null  int64  \n",
      "dtypes: float64(1), int64(3), object(6)\n",
      "memory usage: 21.0+ MB\n"
     ]
    }
   ],
   "source": [
    "df.info()"
   ]
  },
  {
   "cell_type": "code",
   "execution_count": 4,
   "id": "85dcf44d-b161-4714-a2b1-c5fa55565c9f",
   "metadata": {},
   "outputs": [
    {
     "data": {
      "text/plain": [
       "Index(['Unnamed: 0', 'Name', 'Sex', 'Age', 'Team', 'Games', 'Year', 'Season',\n",
       "       'Sport', 'Medal'],\n",
       "      dtype='object')"
      ]
     },
     "execution_count": 4,
     "metadata": {},
     "output_type": "execute_result"
    }
   ],
   "source": [
    "df.columns"
   ]
  },
  {
   "cell_type": "code",
   "execution_count": 6,
   "id": "d74d5630-86e9-4724-b3e4-1e0d68faf877",
   "metadata": {},
   "outputs": [],
   "source": [
    "df.drop(['Unnamed: 0','Year', 'Season'],axis =1,inplace=True)\n",
    "# df.drop([('Year', 'Season')],axis =1,inplace=True)"
   ]
  },
  {
   "cell_type": "code",
   "execution_count": 7,
   "id": "0ed33fc9-fa64-457d-88be-e09bddd01a05",
   "metadata": {},
   "outputs": [],
   "source": [
    "df[['Year','Season']] = df['Games'].str.split(\" \",expand=True)"
   ]
  },
  {
   "cell_type": "code",
   "execution_count": 8,
   "id": "04f5140b-547a-4544-bc5e-4d683cbb06ff",
   "metadata": {},
   "outputs": [
    {
     "data": {
      "text/html": [
       "<div>\n",
       "<style scoped>\n",
       "    .dataframe tbody tr th:only-of-type {\n",
       "        vertical-align: middle;\n",
       "    }\n",
       "\n",
       "    .dataframe tbody tr th {\n",
       "        vertical-align: top;\n",
       "    }\n",
       "\n",
       "    .dataframe thead th {\n",
       "        text-align: right;\n",
       "    }\n",
       "</style>\n",
       "<table border=\"1\" class=\"dataframe\">\n",
       "  <thead>\n",
       "    <tr style=\"text-align: right;\">\n",
       "      <th></th>\n",
       "      <th>Name</th>\n",
       "      <th>Sex</th>\n",
       "      <th>Age</th>\n",
       "      <th>Team</th>\n",
       "      <th>Games</th>\n",
       "      <th>Sport</th>\n",
       "      <th>Medal</th>\n",
       "      <th>Year</th>\n",
       "      <th>Season</th>\n",
       "    </tr>\n",
       "  </thead>\n",
       "  <tbody>\n",
       "    <tr>\n",
       "      <th>0</th>\n",
       "      <td>A Dijiang</td>\n",
       "      <td>M</td>\n",
       "      <td>24.0</td>\n",
       "      <td>China</td>\n",
       "      <td>1992 Summer</td>\n",
       "      <td>Basketball</td>\n",
       "      <td>0</td>\n",
       "      <td>1992</td>\n",
       "      <td>Summer</td>\n",
       "    </tr>\n",
       "    <tr>\n",
       "      <th>1</th>\n",
       "      <td>A Lamusi</td>\n",
       "      <td>M</td>\n",
       "      <td>23.0</td>\n",
       "      <td>China</td>\n",
       "      <td>2012 Summer</td>\n",
       "      <td>Judo</td>\n",
       "      <td>0</td>\n",
       "      <td>2012</td>\n",
       "      <td>Summer</td>\n",
       "    </tr>\n",
       "    <tr>\n",
       "      <th>2</th>\n",
       "      <td>Gunnar Nielsen Aaby</td>\n",
       "      <td>M</td>\n",
       "      <td>24.0</td>\n",
       "      <td>Denmark</td>\n",
       "      <td>1920 Summer</td>\n",
       "      <td>Football</td>\n",
       "      <td>0</td>\n",
       "      <td>1920</td>\n",
       "      <td>Summer</td>\n",
       "    </tr>\n",
       "    <tr>\n",
       "      <th>3</th>\n",
       "      <td>Edgar Lindenau Aabye</td>\n",
       "      <td>M</td>\n",
       "      <td>34.0</td>\n",
       "      <td>Denmark/Sweden</td>\n",
       "      <td>1900 Summer</td>\n",
       "      <td>Tug-Of-War</td>\n",
       "      <td>3</td>\n",
       "      <td>1900</td>\n",
       "      <td>Summer</td>\n",
       "    </tr>\n",
       "    <tr>\n",
       "      <th>4</th>\n",
       "      <td>Christine Jacoba Aaftink</td>\n",
       "      <td>F</td>\n",
       "      <td>21.0</td>\n",
       "      <td>Netherlands</td>\n",
       "      <td>1988 Winter</td>\n",
       "      <td>Speed Skating</td>\n",
       "      <td>0</td>\n",
       "      <td>1988</td>\n",
       "      <td>Winter</td>\n",
       "    </tr>\n",
       "  </tbody>\n",
       "</table>\n",
       "</div>"
      ],
      "text/plain": [
       "                       Name Sex   Age            Team        Games  \\\n",
       "0                 A Dijiang   M  24.0           China  1992 Summer   \n",
       "1                  A Lamusi   M  23.0           China  2012 Summer   \n",
       "2       Gunnar Nielsen Aaby   M  24.0         Denmark  1920 Summer   \n",
       "3      Edgar Lindenau Aabye   M  34.0  Denmark/Sweden  1900 Summer   \n",
       "4  Christine Jacoba Aaftink   F  21.0     Netherlands  1988 Winter   \n",
       "\n",
       "           Sport  Medal  Year  Season  \n",
       "0     Basketball      0  1992  Summer  \n",
       "1           Judo      0  2012  Summer  \n",
       "2       Football      0  1920  Summer  \n",
       "3     Tug-Of-War      3  1900  Summer  \n",
       "4  Speed Skating      0  1988  Winter  "
      ]
     },
     "execution_count": 8,
     "metadata": {},
     "output_type": "execute_result"
    }
   ],
   "source": [
    "df.head()"
   ]
  },
  {
   "cell_type": "code",
   "execution_count": 9,
   "id": "61df9111-3fbd-4780-a9a2-7b5bf528ac04",
   "metadata": {},
   "outputs": [
    {
     "data": {
      "text/plain": [
       "36"
      ]
     },
     "execution_count": 9,
     "metadata": {},
     "output_type": "execute_result"
    }
   ],
   "source": [
    "# m = int(df['Year'].min())\n",
    "# ma = int(df['Year'].max())\n",
    "# print(ma-m)\n",
    "\n",
    "len(df['Year'].unique())"
   ]
  },
  {
   "cell_type": "code",
   "execution_count": 23,
   "id": "67967608-af11-4b3c-ac72-4faee0a3e527",
   "metadata": {},
   "outputs": [
    {
     "data": {
      "text/plain": [
       "M    8390\n",
       "F    5431\n",
       "Name: Sex, dtype: int64"
      ]
     },
     "execution_count": 23,
     "metadata": {},
     "output_type": "execute_result"
    }
   ],
   "source": [
    "# ndf = df[df['Year'] == '2000']\n",
    "# ndf.Sex.value_counts()\n",
    "df[df['Year'] == '2000'].Sex.value_counts()"
   ]
  },
  {
   "cell_type": "code",
   "execution_count": 26,
   "id": "63812ea3-03be-43e1-af8a-b84ae5723a42",
   "metadata": {},
   "outputs": [
    {
     "data": {
      "image/png": "[encoded data removed]",
      "text/plain": [
       "<Figure size 432x288 with 1 Axes>"
      ]
     },
     "metadata": {},
     "output_type": "display_data"
    }
   ],
   "source": [
    "import matplotlib.pyplot as plt\n",
    "data = [df[df['Year'] == '2000'].Sex.value_counts()[0],df[df['Year'] == '2000'].Sex.value_counts()[1]]\n",
    "labels = ['M','F']\n",
    "plt.pie(data,labels=labels,autopct='%.0f%%',shadow=True)\n",
    "plt.show()"
   ]
  },
  {
   "cell_type": "code",
   "execution_count": 35,
   "id": "e4db21a4-d2d3-4795-b91d-ac07d1938144",
   "metadata": {},
   "outputs": [
    {
     "name": "stdout",
     "output_type": "stream",
     "text": [
      "Year : 1992\n",
      "Player Count : 16413\n"
     ]
    }
   ],
   "source": [
    "print(\"Year : \"+ df.Year.value_counts().index[0] + \"\\nPlayer Count : \"+ str(df.Year.value_counts()[0]))"
   ]
  },
  {
   "cell_type": "code",
   "execution_count": 32,
   "id": "0121bd53-4e2e-42ca-af3e-3790619c4f9b",
   "metadata": {},
   "outputs": [
    {
     "data": {
      "text/plain": [
       "16413"
      ]
     },
     "execution_count": 32,
     "metadata": {},
     "output_type": "execute_result"
    }
   ],
   "source": [
    "df.Year.value_counts()[0]"
   ]
  },
  {
   "cell_type": "code",
   "execution_count": 37,
   "id": "a62844a7-fe55-47bc-b261-77bbbc22f111",
   "metadata": {},
   "outputs": [
    {
     "name": "stdout",
     "output_type": "stream",
     "text": [
      "79\n"
     ]
    }
   ],
   "source": [
    "print(len(df.Sport.unique()))"
   ]
  },
  {
   "cell_type": "code",
   "execution_count": 41,
   "id": "b2dc40ed-b42c-4a37-8393-6255063da07b",
   "metadata": {},
   "outputs": [
    {
     "name": "stdout",
     "output_type": "stream",
     "text": [
      "[2468, 1741, 1144, 621, 599, 561, 448, 402, 398, 391, 350, 349, 323, 314, 307, 295, 286, 279, 268, 248, 246, 238, 231, 225, 206, 192, 120, 117, 102, 100, 96, 84, 48, 24]\n"
     ]
    }
   ],
   "source": [
    "n = []\n",
    "for i in range(len(ndf.Sport.value_counts())):\n",
    "    n.append(ndf.Sport.value_counts()[i])\n",
    "print(n)"
   ]
  },
  {
   "cell_type": "code",
   "execution_count": 42,
   "id": "36013ba5-53c0-4065-bc44-ed9ea854cc3f",
   "metadata": {},
   "outputs": [
    {
     "name": "stdout",
     "output_type": "stream",
     "text": [
      "1741\n"
     ]
    }
   ],
   "source": [
    "\n",
    "a = n[0]  #Highest\n",
    "b = n[1]  #Second Highest\n",
    "if a<b:\n",
    "    a,b = b,a\n",
    "for i in range(2,len(n)):\n",
    "    #print(inp[i])\n",
    "    if n[i]>a:\n",
    "        b = a\n",
    "        a = n[i]\n",
    "        \n",
    "        #print(a)\n",
    "    elif n[i]<a and n[i]>b:\n",
    "        b = inp[i]\n",
    "        #print(\"b\", b)\n",
    "print(b)"
   ]
  },
  {
   "cell_type": "code",
   "execution_count": null,
   "id": "5f2d6d89-66cf-445b-b82a-daebb1e4e208",
   "metadata": {},
   "outputs": [],
   "source": []
  }
 ],
 "metadata": {
  "kernelspec": {
   "display_name": "Python 3 (ipykernel)",
   "language": "python",
   "name": "python3"
  },
  "language_info": {
   "codemirror_mode": {
    "name": "ipython",
    "version": 3
   },
   "file_extension": ".py",
   "mimetype": "text/x-python",
   "name": "python",
   "nbconvert_exporter": "python",
   "pygments_lexer": "ipython3",
   "version": "3.10.4"
  }
 },
 "nbformat": 4,
 "nbformat_minor": 5
}
