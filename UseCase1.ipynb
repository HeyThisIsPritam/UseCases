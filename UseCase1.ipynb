{
 "cells": [
  {
   "cell_type": "code",
   "execution_count": 1,
   "id": "29678439-289a-4585-ac77-24dfd25f252e",
   "metadata": {},
   "outputs": [],
   "source": [
    "import pandas as pd\n",
    "df = pd.read_csv(r'C:\\Users\\pritb\\Downloads\\CS1.csv')"
   ]
  },
  {
   "cell_type": "code",
   "execution_count": 8,
   "id": "0bc061ce-9089-4d1e-871b-064abe64cbb9",
   "metadata": {},
   "outputs": [],
   "source": [
    "df.drop('Customer Name',axis = 1,inplace=True)"
   ]
  },
  {
   "cell_type": "code",
   "execution_count": 12,
   "id": "bdfd3962-bd4b-4371-9399-1b195d8f9e1b",
   "metadata": {},
   "outputs": [],
   "source": [
    "# df['Order ID'].str[3:7]\n",
    "df['Year'] = df['Order ID'].str[3:7]"
   ]
  },
  {
   "cell_type": "code",
   "execution_count": 23,
   "id": "e07113e8-ab9f-482a-b850-f3e9ba316d2a",
   "metadata": {},
   "outputs": [
    {
     "name": "stdout",
     "output_type": "stream",
     "text": [
      "Year's total count :  4\n"
     ]
    }
   ],
   "source": [
    "df['Year'].value_counts()\n",
    "print(\"Year's total count : \" ,len(pd.unique(df['Year'])))"
   ]
  },
  {
   "cell_type": "code",
   "execution_count": 25,
   "id": "4f3ccada-7fe6-4ec8-9273-8e32343f3779",
   "metadata": {},
   "outputs": [
    {
     "data": {
      "text/html": [
       "<div>\n",
       "<style scoped>\n",
       "    .dataframe tbody tr th:only-of-type {\n",
       "        vertical-align: middle;\n",
       "    }\n",
       "\n",
       "    .dataframe tbody tr th {\n",
       "        vertical-align: top;\n",
       "    }\n",
       "\n",
       "    .dataframe thead th {\n",
       "        text-align: right;\n",
       "    }\n",
       "</style>\n",
       "<table border=\"1\" class=\"dataframe\">\n",
       "  <thead>\n",
       "    <tr style=\"text-align: right;\">\n",
       "      <th></th>\n",
       "      <th>Row ID</th>\n",
       "      <th>Order ID</th>\n",
       "      <th>Order Date</th>\n",
       "      <th>Ship Date</th>\n",
       "      <th>Ship Mode</th>\n",
       "      <th>Customer ID</th>\n",
       "      <th>Segment</th>\n",
       "      <th>Country</th>\n",
       "      <th>City</th>\n",
       "      <th>State</th>\n",
       "      <th>Postal Code</th>\n",
       "      <th>Region</th>\n",
       "      <th>Product ID</th>\n",
       "      <th>Category</th>\n",
       "      <th>Sub-Category</th>\n",
       "      <th>Product Name</th>\n",
       "      <th>Sales</th>\n",
       "      <th>Year</th>\n",
       "    </tr>\n",
       "  </thead>\n",
       "  <tbody>\n",
       "    <tr>\n",
       "      <th>12</th>\n",
       "      <td>13</td>\n",
       "      <td>CA-2018-114412</td>\n",
       "      <td>15/04/2018</td>\n",
       "      <td>20/04/2018</td>\n",
       "      <td>Standard Class</td>\n",
       "      <td>AA-10480</td>\n",
       "      <td>Consumer</td>\n",
       "      <td>United States</td>\n",
       "      <td>Concord</td>\n",
       "      <td>North Carolina</td>\n",
       "      <td>28027.0</td>\n",
       "      <td>South</td>\n",
       "      <td>OFF-PA-10002365</td>\n",
       "      <td>Office Supplies</td>\n",
       "      <td>Paper</td>\n",
       "      <td>Xerox 1967</td>\n",
       "      <td>15.552</td>\n",
       "      <td>2018</td>\n",
       "    </tr>\n",
       "    <tr>\n",
       "      <th>23</th>\n",
       "      <td>24</td>\n",
       "      <td>US-2018-156909</td>\n",
       "      <td>16/07/2018</td>\n",
       "      <td>18/07/2018</td>\n",
       "      <td>Second Class</td>\n",
       "      <td>SF-20065</td>\n",
       "      <td>Consumer</td>\n",
       "      <td>United States</td>\n",
       "      <td>Philadelphia</td>\n",
       "      <td>Pennsylvania</td>\n",
       "      <td>19140.0</td>\n",
       "      <td>East</td>\n",
       "      <td>FUR-CH-10002774</td>\n",
       "      <td>Furniture</td>\n",
       "      <td>Chairs</td>\n",
       "      <td>Global Deluxe Stacking Chair, Gray</td>\n",
       "      <td>71.372</td>\n",
       "      <td>2018</td>\n",
       "    </tr>\n",
       "  </tbody>\n",
       "</table>\n",
       "</div>"
      ],
      "text/plain": [
       "    Row ID        Order ID  Order Date   Ship Date       Ship Mode  \\\n",
       "12      13  CA-2018-114412  15/04/2018  20/04/2018  Standard Class   \n",
       "23      24  US-2018-156909  16/07/2018  18/07/2018    Second Class   \n",
       "\n",
       "   Customer ID   Segment        Country          City           State  \\\n",
       "12    AA-10480  Consumer  United States       Concord  North Carolina   \n",
       "23    SF-20065  Consumer  United States  Philadelphia    Pennsylvania   \n",
       "\n",
       "    Postal Code Region       Product ID         Category Sub-Category  \\\n",
       "12      28027.0  South  OFF-PA-10002365  Office Supplies        Paper   \n",
       "23      19140.0   East  FUR-CH-10002774        Furniture       Chairs   \n",
       "\n",
       "                          Product Name   Sales  Year  \n",
       "12                          Xerox 1967  15.552  2018  \n",
       "23  Global Deluxe Stacking Chair, Gray  71.372  2018  "
      ]
     },
     "execution_count": 25,
     "metadata": {},
     "output_type": "execute_result"
    }
   ],
   "source": [
    "new_df = df[df['Year'] == '2018']\n",
    "new_df.head(2)"
   ]
  },
  {
   "cell_type": "markdown",
   "id": "ad225abe-6063-4136-8a4d-20ab77afc305",
   "metadata": {},
   "source": [
    "### best month for sales and sum of sales"
   ]
  },
  {
   "cell_type": "code",
   "execution_count": 28,
   "id": "99746405-02ab-4960-8b7d-31e4bedc2e64",
   "metadata": {},
   "outputs": [],
   "source": [
    "df['Months'] = df['Order Date'].str[3:5]"
   ]
  },
  {
   "cell_type": "code",
   "execution_count": 31,
   "id": "145e6e87-921a-4447-88cd-ff8ec70c020c",
   "metadata": {},
   "outputs": [],
   "source": [
    "sales_month = df.groupby('Months').agg({'Sales' : sum})"
   ]
  },
  {
   "cell_type": "code",
   "execution_count": 35,
   "id": "448645ce-294c-4aeb-8ba1-d743026fc29d",
   "metadata": {},
   "outputs": [],
   "source": [
    "hm = sales_month['Sales'].idxmax()"
   ]
  },
  {
   "cell_type": "code",
   "execution_count": 36,
   "id": "a226c31e-d111-490a-96ef-11581c20316e",
   "metadata": {},
   "outputs": [
    {
     "data": {
      "text/html": [
       "<div>\n",
       "<style scoped>\n",
       "    .dataframe tbody tr th:only-of-type {\n",
       "        vertical-align: middle;\n",
       "    }\n",
       "\n",
       "    .dataframe tbody tr th {\n",
       "        vertical-align: top;\n",
       "    }\n",
       "\n",
       "    .dataframe thead th {\n",
       "        text-align: right;\n",
       "    }\n",
       "</style>\n",
       "<table border=\"1\" class=\"dataframe\">\n",
       "  <thead>\n",
       "    <tr style=\"text-align: right;\">\n",
       "      <th></th>\n",
       "      <th>Sales</th>\n",
       "    </tr>\n",
       "    <tr>\n",
       "      <th>Months</th>\n",
       "      <th></th>\n",
       "    </tr>\n",
       "  </thead>\n",
       "  <tbody>\n",
       "    <tr>\n",
       "      <th>01</th>\n",
       "      <td>94291.6296</td>\n",
       "    </tr>\n",
       "    <tr>\n",
       "      <th>02</th>\n",
       "      <td>59371.1154</td>\n",
       "    </tr>\n",
       "    <tr>\n",
       "      <th>03</th>\n",
       "      <td>197573.5872</td>\n",
       "    </tr>\n",
       "    <tr>\n",
       "      <th>04</th>\n",
       "      <td>136283.0006</td>\n",
       "    </tr>\n",
       "    <tr>\n",
       "      <th>05</th>\n",
       "      <td>154086.7237</td>\n",
       "    </tr>\n",
       "    <tr>\n",
       "      <th>06</th>\n",
       "      <td>145837.5233</td>\n",
       "    </tr>\n",
       "    <tr>\n",
       "      <th>07</th>\n",
       "      <td>145535.6890</td>\n",
       "    </tr>\n",
       "    <tr>\n",
       "      <th>08</th>\n",
       "      <td>157315.9270</td>\n",
       "    </tr>\n",
       "    <tr>\n",
       "      <th>09</th>\n",
       "      <td>300103.4117</td>\n",
       "    </tr>\n",
       "    <tr>\n",
       "      <th>10</th>\n",
       "      <td>199496.2947</td>\n",
       "    </tr>\n",
       "    <tr>\n",
       "      <th>11</th>\n",
       "      <td>350161.7110</td>\n",
       "    </tr>\n",
       "    <tr>\n",
       "      <th>12</th>\n",
       "      <td>321480.1695</td>\n",
       "    </tr>\n",
       "  </tbody>\n",
       "</table>\n",
       "</div>"
      ],
      "text/plain": [
       "              Sales\n",
       "Months             \n",
       "01       94291.6296\n",
       "02       59371.1154\n",
       "03      197573.5872\n",
       "04      136283.0006\n",
       "05      154086.7237\n",
       "06      145837.5233\n",
       "07      145535.6890\n",
       "08      157315.9270\n",
       "09      300103.4117\n",
       "10      199496.2947\n",
       "11      350161.7110\n",
       "12      321480.1695"
      ]
     },
     "execution_count": 36,
     "metadata": {},
     "output_type": "execute_result"
    }
   ],
   "source": [
    "sales_month"
   ]
  },
  {
   "cell_type": "code",
   "execution_count": 37,
   "id": "58fce10c-036a-40ee-8a2d-67f7f48b5204",
   "metadata": {},
   "outputs": [
    {
     "name": "stdout",
     "output_type": "stream",
     "text": [
      "Month of Highest Sale :  11\n",
      "Highest Sale :  350161.711\n"
     ]
    }
   ],
   "source": [
    "print(\"Month of Highest Sale : \",hm)\n",
    "print(\"Highest Sale : \",sales_month['Sales'].max())"
   ]
  },
  {
   "cell_type": "markdown",
   "id": "6e7b125e-9224-4ec7-bc6f-ddf96b2629ef",
   "metadata": {},
   "source": [
    "### best City for sales and Highest of sales"
   ]
  },
  {
   "cell_type": "code",
   "execution_count": 38,
   "id": "90ff8590-9142-436f-b7d2-791aa59256a2",
   "metadata": {},
   "outputs": [],
   "source": [
    "sales_city = df.groupby('City').agg({'Sales' : sum})"
   ]
  },
  {
   "cell_type": "code",
   "execution_count": 39,
   "id": "c45ce42b-99ac-46b1-87c6-2fcf470fa039",
   "metadata": {},
   "outputs": [],
   "source": [
    "hc = sales_city['Sales'].idxmax()"
   ]
  },
  {
   "cell_type": "code",
   "execution_count": 40,
   "id": "564e78aa-b720-448f-af6a-11b6a9ffce70",
   "metadata": {},
   "outputs": [
    {
     "name": "stdout",
     "output_type": "stream",
     "text": [
      "Month of Highest Sale :  New York City\n",
      "Highest Sale :  252462.547\n"
     ]
    }
   ],
   "source": [
    "print(\"Month of Highest Sale : \",hc)\n",
    "print(\"Highest Sale : \",sales_city['Sales'].max())"
   ]
  },
  {
   "cell_type": "code",
   "execution_count": 41,
   "id": "7273dfba-54e2-43ad-9ec5-228bbde52739",
   "metadata": {},
   "outputs": [
    {
     "data": {
      "text/html": [
       "<div>\n",
       "<style scoped>\n",
       "    .dataframe tbody tr th:only-of-type {\n",
       "        vertical-align: middle;\n",
       "    }\n",
       "\n",
       "    .dataframe tbody tr th {\n",
       "        vertical-align: top;\n",
       "    }\n",
       "\n",
       "    .dataframe thead th {\n",
       "        text-align: right;\n",
       "    }\n",
       "</style>\n",
       "<table border=\"1\" class=\"dataframe\">\n",
       "  <thead>\n",
       "    <tr style=\"text-align: right;\">\n",
       "      <th></th>\n",
       "      <th>Sales</th>\n",
       "    </tr>\n",
       "    <tr>\n",
       "      <th>City</th>\n",
       "      <th></th>\n",
       "    </tr>\n",
       "  </thead>\n",
       "  <tbody>\n",
       "    <tr>\n",
       "      <th>Aberdeen</th>\n",
       "      <td>25.500</td>\n",
       "    </tr>\n",
       "    <tr>\n",
       "      <th>Abilene</th>\n",
       "      <td>1.392</td>\n",
       "    </tr>\n",
       "    <tr>\n",
       "      <th>Akron</th>\n",
       "      <td>2724.244</td>\n",
       "    </tr>\n",
       "    <tr>\n",
       "      <th>Albuquerque</th>\n",
       "      <td>2220.160</td>\n",
       "    </tr>\n",
       "    <tr>\n",
       "      <th>Alexandria</th>\n",
       "      <td>5519.570</td>\n",
       "    </tr>\n",
       "    <tr>\n",
       "      <th>...</th>\n",
       "      <td>...</td>\n",
       "    </tr>\n",
       "    <tr>\n",
       "      <th>Woonsocket</th>\n",
       "      <td>195.550</td>\n",
       "    </tr>\n",
       "    <tr>\n",
       "      <th>Yonkers</th>\n",
       "      <td>7657.666</td>\n",
       "    </tr>\n",
       "    <tr>\n",
       "      <th>York</th>\n",
       "      <td>817.978</td>\n",
       "    </tr>\n",
       "    <tr>\n",
       "      <th>Yucaipa</th>\n",
       "      <td>50.800</td>\n",
       "    </tr>\n",
       "    <tr>\n",
       "      <th>Yuma</th>\n",
       "      <td>840.865</td>\n",
       "    </tr>\n",
       "  </tbody>\n",
       "</table>\n",
       "<p>529 rows × 1 columns</p>\n",
       "</div>"
      ],
      "text/plain": [
       "                Sales\n",
       "City                 \n",
       "Aberdeen       25.500\n",
       "Abilene         1.392\n",
       "Akron        2724.244\n",
       "Albuquerque  2220.160\n",
       "Alexandria   5519.570\n",
       "...               ...\n",
       "Woonsocket    195.550\n",
       "Yonkers      7657.666\n",
       "York          817.978\n",
       "Yucaipa        50.800\n",
       "Yuma          840.865\n",
       "\n",
       "[529 rows x 1 columns]"
      ]
     },
     "execution_count": 41,
     "metadata": {},
     "output_type": "execute_result"
    }
   ],
   "source": [
    "sales_city"
   ]
  },
  {
   "cell_type": "markdown",
   "id": "1d97a9ba-cf93-4917-abef-1e1c5f87ab00",
   "metadata": {},
   "source": [
    "### best State for sales and Highest of sales"
   ]
  },
  {
   "cell_type": "code",
   "execution_count": 42,
   "id": "78a35ad2-cb07-45e4-bce8-201b59b8e62d",
   "metadata": {},
   "outputs": [],
   "source": [
    "sales_state = df.groupby('State').agg({'Sales' : sum})"
   ]
  },
  {
   "cell_type": "code",
   "execution_count": 43,
   "id": "24edd9ce-decf-400f-a141-579eda1f098c",
   "metadata": {},
   "outputs": [],
   "source": [
    "hs = sales_state['Sales'].idxmax()"
   ]
  },
  {
   "cell_type": "code",
   "execution_count": 44,
   "id": "f26a5b0a-6397-47a0-b19a-24a521e10cf3",
   "metadata": {},
   "outputs": [
    {
     "name": "stdout",
     "output_type": "stream",
     "text": [
      "Month of Highest Sale :  California\n",
      "Highest Sale :  446306.4635\n"
     ]
    }
   ],
   "source": [
    "print(\"Month of Highest Sale : \",hs)\n",
    "print(\"Highest Sale : \",sales_state['Sales'].max())"
   ]
  },
  {
   "cell_type": "code",
   "execution_count": null,
   "id": "f86fc84b-b21c-4fb1-9ce4-d9d62b591e9d",
   "metadata": {},
   "outputs": [],
   "source": []
  }
 ],
 "metadata": {
  "kernelspec": {
   "display_name": "Python 3 (ipykernel)",
   "language": "python",
   "name": "python3"
  },
  "language_info": {
   "codemirror_mode": {
    "name": "ipython",
    "version": 3
   },
   "file_extension": ".py",
   "mimetype": "text/x-python",
   "name": "python",
   "nbconvert_exporter": "python",
   "pygments_lexer": "ipython3",
   "version": "3.10.4"
  }
 },
 "nbformat": 4,
 "nbformat_minor": 5
}
